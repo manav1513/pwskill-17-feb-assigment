{
 "cells": [
  {
   "cell_type": "code",
   "execution_count": 1,
   "id": "d4d60e4e-c428-4f08-bb82-c3646ed003aa",
   "metadata": {},
   "outputs": [],
   "source": [
    "# Q1. What is MongoDB? Explain non-relational databases in short. In which scenarios it is preferred to use MongoDB over SQL databases?\n",
    "# MongoDB is a NoSql database\n",
    "\n",
    "# non-relational databases support unstructured or semi-structured data also.\n",
    "# non-relational databases no need to predefine schema\n",
    "# non-relational databases is a best option for memory management\n",
    "# When you know your data may be unstructured or semi-structured, and you also\n",
    "# need a flexible schema"
   ]
  },
  {
   "cell_type": "code",
   "execution_count": 2,
   "id": "58feb967-69b7-454a-9ed8-ff92d4fbc691",
   "metadata": {},
   "outputs": [],
   "source": [
    "# Q2. State and Explain the features of MongoDB.\n",
    "# Ans :\n",
    "\n",
    "# This is a Schema-less Database\n",
    "# This is Document Oriented or key-value\n",
    "# This allows Dynamic Queries (no need schema)\n",
    "# Power full Aggregation for filtering, sorting, etc.\n",
    " "
   ]
  },
  {
   "cell_type": "code",
   "execution_count": 4,
   "id": "2058557e-a088-40a9-9607-60b34f996a35",
   "metadata": {},
   "outputs": [],
   "source": [
    "#Q3. Write a code to connect MongoDB to Python. Also, create a database and a collection in MongoDB.\n",
    "#connect MongoDB to Python\n",
    "import pymongo\n",
    "client = pymongo.MongoClient(\"mongodb+srv://<username>:<passeord>@cluster0.m6yagtd.mongodb.net/?retryWrites=true&w=majority\")\n",
    "db = client.test\n",
    "# create a database\n",
    "db = client['TestDatabase']    \n",
    "# collection in MongoDB\n",
    "data = {\"name\" : \"maanav\" , \n",
    "        \"class\" :\"data science masters \" ,\n",
    "        \"time\" : \"flexi\"}\n",
    "test_collection = db[\"my_record\"]\n",
    "test_collection.insert_one(data1)"
   ]
  },
  {
   "cell_type": "code",
   "execution_count": null,
   "id": "a3be8d60-9d8a-4883-8c01-37ab23aa1f76",
   "metadata": {},
   "outputs": [],
   "source": [
    "#Q4. Using the database and the collection created in question number 3, write a code to insert one record, and insert many records. Use the find() and find_one() methods to print the inserted record.\n",
    "\n",
    "#connect MongoDB to Python\n",
    "import pymongo\n",
    "client = pymongo.MongoClient(\"mongodb+srv://<username>:<passeord>@cluster0.m6yagtd.mongodb.net/?retryWrites=true&w=majority\")\n",
    "db = client.test\n",
    "db = client['TestDatabase']  \n",
    "data = {\"name\" : \"Akram\" , \n",
    "        \"class\" :\"data science masters \" ,\n",
    "        \"time\" : \"flexi\"}\n",
    "test_collection = db[\"my_record\"]\n",
    "test_collection.insert_one(data1)\n",
    "\n",
    " data2 = [\n",
    "  { \"name\": \"Amy\", \"address\": \"Apple st 652\" },\n",
    "  { \"name\": \"Hannah\", \"address\": \"Mountain 21\" },\n",
    "  { \"name\": \"Chuck\", \"address\": \"Main Road 989\" },\n",
    "  { \"name\": \"Viola\", \"address\": \"Sideway 1633\" }\n",
    "]\n",
    "test_collection.insert_many(data2)  \n",
    "test_collection.find_one()  \n",
    "for i in test_collection.find():         # find all document from collection/table\n",
    "    print(i)"
   ]
  },
  {
   "cell_type": "code",
   "execution_count": null,
   "id": "5dcc9f68-8b3c-4c7a-a3d0-a96eb7e30633",
   "metadata": {},
   "outputs": [],
   "source": [
    "# Q5. Explain how you can use the find() method to query the MongoDB database. Write a simple code to demonstrate this.\n",
    "# find(): This function used to query and retrieve data from a MongoDB collection.\n",
    "\n",
    "for i in test_collection.find({'name': 'Chuck'}): \n",
    "    print(i)\n",
    "for i in test_collection.find({\"_id\" :{\"$lt\" : '5'}}):  \n",
    "    print(i) "
   ]
  },
  {
   "cell_type": "code",
   "execution_count": null,
   "id": "5b6ab0d1-06b0-4b6c-811d-0efc0da29fd6",
   "metadata": {},
   "outputs": [],
   "source": [
    "# Q6. Explain the sort() method. Give an example to demonstrate sorting in MongoDB.\n",
    "# sort(): It is used to sort result quety\n",
    "\n",
    "# sort rutern data in order to name\n",
    "for i in test_collection.find().sort(\"name\"):\n",
    "    print(i)\n",
    "#sort in descending order\n",
    "for i in test_collection.find().sort(\"name\",-1):\n",
    "    print(i)"
   ]
  },
  {
   "cell_type": "code",
   "execution_count": 6,
   "id": "8c890e82-7d78-4a03-abf9-37d9826e6343",
   "metadata": {},
   "outputs": [],
   "source": [
    "# Q7. Explain why delete_one(), delete_many(), and drop() is used.\n",
    "# delete_one(): It is used to delete single document from collection\n",
    "\n",
    "test_collection.delete_one({'name': 'Chuck'})"
   ]
  },
  {
   "cell_type": "code",
   "execution_count": null,
   "id": "af10e7ed-f4a7-4d2b-ad34-bcc4e4701b14",
   "metadata": {},
   "outputs": [],
   "source": [
    "#delete_many(): It is used to delete all data according to condition\n",
    "\n",
    "test_collection.delete_many({\"address\": { \"$regex\": \"^S\" }})\n",
    "#drop(): It is used to drop/delete collection from MongoDB database\n",
    "\n",
    "mycol = db[\"TestDatabase\"]                 # Create collection\n",
    "mycol.drop()                               #drop collection"
   ]
  }
 ],
 "metadata": {
  "kernelspec": {
   "display_name": "Python 3 (ipykernel)",
   "language": "python",
   "name": "python3"
  },
  "language_info": {
   "codemirror_mode": {
    "name": "ipython",
    "version": 3
   },
   "file_extension": ".py",
   "mimetype": "text/x-python",
   "name": "python",
   "nbconvert_exporter": "python",
   "pygments_lexer": "ipython3",
   "version": "3.10.8"
  }
 },
 "nbformat": 4,
 "nbformat_minor": 5
}
